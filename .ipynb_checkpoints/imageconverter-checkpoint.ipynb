{
 "cells": [
  {
   "cell_type": "code",
   "execution_count": 5,
   "id": "4918527e-e6e4-42fe-9173-dfbadc8d6b77",
   "metadata": {},
   "outputs": [
    {
     "name": "stdout",
     "output_type": "stream",
     "text": [
      "📂 Scanning folder: C:\\Users\\USER\\Documents\\ATTNDB\\facerecognition\n",
      "✅ Resaved 1234.jpg as clean 8-bit RGB JPEG.\n",
      "✅ Resaved 23.jpg as clean 8-bit RGB JPEG.\n"
     ]
    }
   ],
   "source": [
    "from PIL import Image\n",
    "import os\n",
    "\n",
    "# Folder containing the images\n",
    "FOLDER_PATH = r\"C:\\Users\\USER\\Documents\\ATTNDB\\facerecognition\"\n",
    "print(f\"📂 Scanning folder: {FOLDER_PATH}\")\n",
    "\n",
    "for file in os.listdir(FOLDER_PATH):\n",
    "    if file.lower().endswith((\".jpg\", \".jpeg\", \".png\")):\n",
    "        full_path = os.path.join(FOLDER_PATH, file)\n",
    "\n",
    "        try:\n",
    "            with Image.open(full_path) as img:\n",
    "                if img.mode != \"RGB\":\n",
    "                    img = img.convert(\"RGB\")\n",
    "\n",
    "                # Force save as clean RGB JPEG\n",
    "                clean_path = os.path.join(FOLDER_PATH, f\"clean_{file}\")\n",
    "                img.save(clean_path, format=\"JPEG\", quality=95)\n",
    "\n",
    "                os.remove(full_path)  # Remove old version\n",
    "                os.rename(clean_path, full_path)  # Rename cleaned file to original\n",
    "\n",
    "                print(f\"✅ Resaved {file} as clean 8-bit RGB JPEG.\")\n",
    "        except Exception as e:\n",
    "            print(f\"❌ Failed to process {file}: {e}\")\n"
   ]
  },
  {
   "cell_type": "code",
   "execution_count": 6,
   "id": "aa428148-9c65-4fa6-91f6-069cebb8658a",
   "metadata": {},
   "outputs": [
    {
     "name": "stdout",
     "output_type": "stream",
     "text": [
      "Mode: RGB, Size: (704, 396), Format: JPEG\n"
     ]
    }
   ],
   "source": [
    "print(f\"Mode: {img.mode}, Size: {img.size}, Format: {img.format}\")\n"
   ]
  },
  {
   "cell_type": "code",
   "execution_count": 8,
   "id": "1df39713-30cb-47a7-b1ce-2a13c615ade4",
   "metadata": {},
   "outputs": [
    {
     "ename": "ModuleNotFoundError",
     "evalue": "No module named 'face_recognition'",
     "output_type": "error",
     "traceback": [
      "\u001b[31m---------------------------------------------------------------------------\u001b[39m",
      "\u001b[31mModuleNotFoundError\u001b[39m                       Traceback (most recent call last)",
      "\u001b[36mCell\u001b[39m\u001b[36m \u001b[39m\u001b[32mIn[8]\u001b[39m\u001b[32m, line 1\u001b[39m\n\u001b[32m----> \u001b[39m\u001b[32m1\u001b[39m \u001b[38;5;28;01mimport\u001b[39;00m\u001b[38;5;250m \u001b[39m\u001b[34;01mface_recognition\u001b[39;00m\n\u001b[32m      3\u001b[39m image_path = \u001b[33mr\u001b[39m\u001b[33m\"\u001b[39m\u001b[33mC:\u001b[39m\u001b[33m\\\u001b[39m\u001b[33mUsers\u001b[39m\u001b[33m\\\u001b[39m\u001b[33mUSER\u001b[39m\u001b[33m\\\u001b[39m\u001b[33mDocuments\u001b[39m\u001b[33m\\\u001b[39m\u001b[33mATTNDB\u001b[39m\u001b[33m\\\u001b[39m\u001b[33mfacerecongnition\u001b[39m\u001b[33m\\\u001b[39m\u001b[33m1234.jpg\u001b[39m\u001b[33m\"\u001b[39m\n\u001b[32m      5\u001b[39m \u001b[38;5;28;01mtry\u001b[39;00m:\n",
      "\u001b[31mModuleNotFoundError\u001b[39m: No module named 'face_recognition'"
     ]
    }
   ],
   "source": [
    "import face_recognition\n",
    "\n",
    "image_path = r\"C:\\Users\\USER\\Documents\\ATTNDB\\facerecognition\\1234.jpg\"\n",
    "\n",
    "try:\n",
    "    image = face_recognition.load_image_file(image_path)\n",
    "    encodings = face_recognition.face_encodings(image)\n",
    "\n",
    "    if encodings:\n",
    "        print(\"✅ Face encoding extracted successfully.\")\n",
    "    else:\n",
    "        print(\"⚠️ No face found in the image.\")\n",
    "except Exception as e:\n",
    "    print(f\"❌ Failed to load or process image: {e}\")\n"
   ]
  },
  {
   "cell_type": "code",
   "execution_count": null,
   "id": "8bf10747-d8c0-47d4-8e2b-d4974dfbaba1",
   "metadata": {},
   "outputs": [],
   "source": []
  },
  {
   "cell_type": "code",
   "execution_count": null,
   "id": "f25b884f-b6cd-486d-96e9-f40de8c693f3",
   "metadata": {},
   "outputs": [],
   "source": []
  },
  {
   "cell_type": "code",
   "execution_count": null,
   "id": "e913e8a9-80e8-4809-8d4d-30449286ba73",
   "metadata": {},
   "outputs": [],
   "source": []
  },
  {
   "cell_type": "code",
   "execution_count": null,
   "id": "8b9677c5-2d68-4c67-80bb-5fae9e76d5d4",
   "metadata": {},
   "outputs": [],
   "source": []
  },
  {
   "cell_type": "code",
   "execution_count": null,
   "id": "b2faf739-c69c-4e4d-b9a4-1e8261c34c68",
   "metadata": {},
   "outputs": [],
   "source": []
  }
 ],
 "metadata": {
  "kernelspec": {
   "display_name": "Python 3 (ipykernel)",
   "language": "python",
   "name": "python3"
  },
  "language_info": {
   "codemirror_mode": {
    "name": "ipython",
    "version": 3
   },
   "file_extension": ".py",
   "mimetype": "text/x-python",
   "name": "python",
   "nbconvert_exporter": "python",
   "pygments_lexer": "ipython3",
   "version": "3.13.5"
  }
 },
 "nbformat": 4,
 "nbformat_minor": 5
}
