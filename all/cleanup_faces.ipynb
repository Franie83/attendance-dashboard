{
 "cells": [
  {
   "cell_type": "code",
   "execution_count": null,
   "id": "ef83f359-1018-4b3b-b554-9a96f92528ef",
   "metadata": {},
   "outputs": [],
   "source": [
    "import os\n",
    "\n",
    "# Set the folder containing your face images\n",
    "FOLDER_PATH = r\"C:\\Users\\USER\\Documents\\ATTNDB\\facerecognition\"\n",
    "\n",
    "print(f\"🧹 Cleaning folder: {FOLDER_PATH}\")\n",
    "\n",
    "deleted = 0\n",
    "kept = 0\n",
    "\n",
    "for file in os.listdir(FOLDER_PATH):\n",
    "    file_path = os.path.join(FOLDER_PATH, file)\n",
    "    \n",
    "    # Only keep files that start with \"cv2_\" and end with .jpg or .jpeg\n",
    "    if file.lower().endswith((\".jpg\", \".jpeg\")):\n",
    "        if file.startswith(\"cv2_\"):\n",
    "            print(f\"✅ Keeping: {file}\")\n",
    "            kept += 1\n",
    "        else:\n",
    "            try:\n",
    "                os.remove(file_path)\n",
    "                print(f\"🗑️ Deleted: {file}\")\n",
    "                deleted += 1\n",
    "            except Exception as e:\n",
    "                print(f\"❌ Failed to delete {file}: {e}\")\n",
    "\n",
    "print(f\"\\n🧾 Summary: {kept} image(s) kept, {deleted} deleted.\")\n"
   ]
  },
  {
   "cell_type": "code",
   "execution_count": 1,
   "id": "dfd979f5-0e1f-4f5d-b8d9-a19620b936b1",
   "metadata": {},
   "outputs": [
    {
     "ename": "ModuleNotFoundError",
     "evalue": "No module named 'face_recognition'",
     "output_type": "error",
     "traceback": [
      "\u001b[31m---------------------------------------------------------------------------\u001b[39m",
      "\u001b[31mModuleNotFoundError\u001b[39m                       Traceback (most recent call last)",
      "\u001b[36mCell\u001b[39m\u001b[36m \u001b[39m\u001b[32mIn[1]\u001b[39m\u001b[32m, line 1\u001b[39m\n\u001b[32m----> \u001b[39m\u001b[32m1\u001b[39m \u001b[38;5;28;01mimport\u001b[39;00m\u001b[38;5;250m \u001b[39m\u001b[34;01mface_recognition\u001b[39;00m\n\u001b[32m      3\u001b[39m image_path = \u001b[33mr\u001b[39m\u001b[33m\"\u001b[39m\u001b[33mC:\u001b[39m\u001b[33m\\\u001b[39m\u001b[33mUsers\u001b[39m\u001b[33m\\\u001b[39m\u001b[33mUSER\u001b[39m\u001b[33m\\\u001b[39m\u001b[33mDocuments\u001b[39m\u001b[33m\\\u001b[39m\u001b[33mATTNDB\u001b[39m\u001b[33m\\\u001b[39m\u001b[33mfacerecognition\u001b[39m\u001b[33m\\\u001b[39m\u001b[33mggg.jpg\u001b[39m\u001b[33m\"\u001b[39m\n\u001b[32m      4\u001b[39m \u001b[38;5;28;01mtry\u001b[39;00m:\n",
      "\u001b[31mModuleNotFoundError\u001b[39m: No module named 'face_recognition'"
     ]
    }
   ],
   "source": [
    "import face_recognition\n",
    "\n",
    "image_path = r\"C:\\Users\\USER\\Documents\\ATTNDB\\facerecognition\\ggg.jpg\"\n",
    "try:\n",
    "    image = face_recognition.load_image_file(image_path)\n",
    "    encodings = face_recognition.face_encodings(image)\n",
    "    if not encodings:\n",
    "        print(\"❌ No face found in image.\")\n",
    "    else:\n",
    "        print(\"✅ Face encoding generated successfully.\")\n",
    "except Exception as e:\n",
    "    print(f\"❌ Failed to process image: {e}\")\n"
   ]
  },
  {
   "cell_type": "code",
   "execution_count": null,
   "id": "42064183-c4af-4d7f-8f4b-f675da5bc820",
   "metadata": {},
   "outputs": [],
   "source": []
  }
 ],
 "metadata": {
  "kernelspec": {
   "display_name": "Python 3 (ipykernel)",
   "language": "python",
   "name": "python3"
  },
  "language_info": {
   "codemirror_mode": {
    "name": "ipython",
    "version": 3
   },
   "file_extension": ".py",
   "mimetype": "text/x-python",
   "name": "python",
   "nbconvert_exporter": "python",
   "pygments_lexer": "ipython3",
   "version": "3.13.5"
  }
 },
 "nbformat": 4,
 "nbformat_minor": 5
}
