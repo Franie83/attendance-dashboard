{
 "cells": [
  {
   "cell_type": "code",
   "execution_count": 3,
   "id": "c0ab6cf5-1c56-414a-b0e4-4e4267346fc9",
   "metadata": {},
   "outputs": [
    {
     "name": "stdout",
     "output_type": "stream",
     "text": [
      "Tables: [('faces',)]\n",
      "\n",
      "Saved Records:\n"
     ]
    }
   ],
   "source": [
    "import sqlite3\n",
    "\n",
    "db_path = \"faces.db\"  # e.g. \"453327dc-67ba-48f2-970f-21165fe911ab.db\"\n",
    "\n",
    "conn = sqlite3.connect(db_path)\n",
    "cursor = conn.cursor()\n",
    "\n",
    "# Show tables\n",
    "cursor.execute(\"SELECT name FROM sqlite_master WHERE type='table';\")\n",
    "print(\"Tables:\", cursor.fetchall())\n",
    "\n",
    "# Read from 'faces' table\n",
    "cursor.execute(\"SELECT name, image_path FROM faces;\")\n",
    "rows = cursor.fetchall()\n",
    "\n",
    "print(\"\\nSaved Records:\")\n",
    "for row in rows:\n",
    "    print(\"Name:\", row[0], \"| Image Path:\", row[1])\n",
    "\n",
    "conn.close()\n"
   ]
  },
  {
   "cell_type": "code",
   "execution_count": null,
   "id": "a99a9e92-7734-470f-965d-cc8de05d3f9a",
   "metadata": {},
   "outputs": [],
   "source": []
  },
  {
   "cell_type": "code",
   "execution_count": null,
   "id": "1daa8282-ce19-4083-a451-ffe7191352ac",
   "metadata": {},
   "outputs": [],
   "source": []
  }
 ],
 "metadata": {
  "kernelspec": {
   "display_name": "Python 3 (ipykernel)",
   "language": "python",
   "name": "python3"
  },
  "language_info": {
   "codemirror_mode": {
    "name": "ipython",
    "version": 3
   },
   "file_extension": ".py",
   "mimetype": "text/x-python",
   "name": "python",
   "nbconvert_exporter": "python",
   "pygments_lexer": "ipython3",
   "version": "3.13.5"
  }
 },
 "nbformat": 4,
 "nbformat_minor": 5
}
