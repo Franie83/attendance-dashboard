{
 "cells": [
  {
   "cell_type": "code",
   "execution_count": 10,
   "id": "bb02055a-07d9-47e8-9fe9-535a7832dfcf",
   "metadata": {},
   "outputs": [
    {
     "name": "stdout",
     "output_type": "stream",
     "text": [
      "📂 Scanning folder: C:\\Users\\USER\\Documents\\ATTNDB\\facerecongnition\n"
     ]
    },
    {
     "ename": "FileNotFoundError",
     "evalue": "[WinError 3] The system cannot find the path specified: 'C:\\\\Users\\\\USER\\\\Documents\\\\ATTNDB\\\\facerecongnition'",
     "output_type": "error",
     "traceback": [
      "\u001b[31m---------------------------------------------------------------------------\u001b[39m",
      "\u001b[31mFileNotFoundError\u001b[39m                         Traceback (most recent call last)",
      "\u001b[36mCell\u001b[39m\u001b[36m \u001b[39m\u001b[32mIn[10]\u001b[39m\u001b[32m, line 8\u001b[39m\n\u001b[32m      4\u001b[39m FOLDER_PATH = \u001b[33mr\u001b[39m\u001b[33m\"\u001b[39m\u001b[33mC:\u001b[39m\u001b[33m\\\u001b[39m\u001b[33mUsers\u001b[39m\u001b[33m\\\u001b[39m\u001b[33mUSER\u001b[39m\u001b[33m\\\u001b[39m\u001b[33mDocuments\u001b[39m\u001b[33m\\\u001b[39m\u001b[33mATTNDB\u001b[39m\u001b[33m\\\u001b[39m\u001b[33mfacerecongnition\u001b[39m\u001b[33m\"\u001b[39m\n\u001b[32m      6\u001b[39m \u001b[38;5;28mprint\u001b[39m(\u001b[33mf\u001b[39m\u001b[33m\"\u001b[39m\u001b[33m📂 Scanning folder: \u001b[39m\u001b[38;5;132;01m{\u001b[39;00mFOLDER_PATH\u001b[38;5;132;01m}\u001b[39;00m\u001b[33m\"\u001b[39m)\n\u001b[32m----> \u001b[39m\u001b[32m8\u001b[39m \u001b[38;5;28;01mfor\u001b[39;00m file \u001b[38;5;129;01min\u001b[39;00m \u001b[43mos\u001b[49m\u001b[43m.\u001b[49m\u001b[43mlistdir\u001b[49m\u001b[43m(\u001b[49m\u001b[43mFOLDER_PATH\u001b[49m\u001b[43m)\u001b[49m:\n\u001b[32m      9\u001b[39m     \u001b[38;5;28;01mif\u001b[39;00m file.lower().endswith((\u001b[33m\"\u001b[39m\u001b[33m.jpg\u001b[39m\u001b[33m\"\u001b[39m, \u001b[33m\"\u001b[39m\u001b[33m.jpeg\u001b[39m\u001b[33m\"\u001b[39m, \u001b[33m\"\u001b[39m\u001b[33m.png\u001b[39m\u001b[33m\"\u001b[39m)):\n\u001b[32m     10\u001b[39m         full_path = os.path.join(FOLDER_PATH, file)\n",
      "\u001b[31mFileNotFoundError\u001b[39m: [WinError 3] The system cannot find the path specified: 'C:\\\\Users\\\\USER\\\\Documents\\\\ATTNDB\\\\facerecongnition'"
     ]
    }
   ],
   "source": [
    "from PIL import Image\n",
    "import os\n",
    "\n",
    "FOLDER_PATH = r\"C:\\Users\\USER\\Documents\\ATTNDB\\facerecongnition\"\n",
    "\n",
    "print(f\"📂 Scanning folder: {FOLDER_PATH}\")\n",
    "\n",
    "for file in os.listdir(FOLDER_PATH):\n",
    "    if file.lower().endswith((\".jpg\", \".jpeg\", \".png\")):\n",
    "        full_path = os.path.join(FOLDER_PATH, file)\n",
    "\n",
    "        try:\n",
    "            with Image.open(full_path) as img:\n",
    "                print(f\"🔍 Processing {file} - Mode: {img.mode}, Format: {img.format}\")\n",
    "\n",
    "                # Convert to RGB no matter what\n",
    "                img = img.convert(\"RGB\")\n",
    "\n",
    "                # Save to temp path\n",
    "                temp_path = os.path.join(FOLDER_PATH, f\"fixed_{file}\")\n",
    "                img.save(temp_path, format=\"JPEG\", quality=95)\n",
    "\n",
    "                # Replace original with fixed version\n",
    "                os.remove(full_path)\n",
    "                os.rename(temp_path, full_path)\n",
    "\n",
    "                print(f\"✅ Fixed and resaved: {file}\")\n",
    "\n",
    "        except Exception as e:\n",
    "            print(f\"❌ Failed to process {file}: {e}\")\n"
   ]
  },
  {
   "cell_type": "code",
   "execution_count": null,
   "id": "c2543a28-f8c2-40a8-87a3-1b688590b165",
   "metadata": {},
   "outputs": [],
   "source": []
  }
 ],
 "metadata": {
  "kernelspec": {
   "display_name": "Python 3 (ipykernel)",
   "language": "python",
   "name": "python3"
  },
  "language_info": {
   "codemirror_mode": {
    "name": "ipython",
    "version": 3
   },
   "file_extension": ".py",
   "mimetype": "text/x-python",
   "name": "python",
   "nbconvert_exporter": "python",
   "pygments_lexer": "ipython3",
   "version": "3.13.5"
  }
 },
 "nbformat": 4,
 "nbformat_minor": 5
}
