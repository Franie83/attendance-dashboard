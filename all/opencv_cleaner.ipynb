{
 "cells": [
  {
   "cell_type": "code",
   "execution_count": null,
   "id": "4c128477-7e16-487c-ba01-354aec0ab0f3",
   "metadata": {},
   "outputs": [],
   "source": [
    "import cv2\n",
    "import os\n",
    "\n",
    "FOLDER_PATH = r\"C:\\Users\\USER\\Documents\\ATTNDB\\facerecognition\"\n",
    "print(f\"📂 Scanning folder: {FOLDER_PATH}\")\n",
    "\n",
    "for file in os.listdir(FOLDER_PATH):\n",
    "    if file.lower().endswith((\".jpg\", \".jpeg\", \".png\")):\n",
    "        full_path = os.path.join(FOLDER_PATH, file)\n",
    "\n",
    "        try:\n",
    "            img = cv2.imread(full_path)\n",
    "            if img is None:\n",
    "                raise ValueError(\"Image failed to load with OpenCV\")\n",
    "\n",
    "            # Force 8-bit per channel RGB\n",
    "            rgb_img = cv2.cvtColor(img, cv2.COLOR_BGR2RGB)\n",
    "\n",
    "            new_path = os.path.join(FOLDER_PATH, f\"cv2_{file}\")\n",
    "            cv2.imwrite(new_path, cv2.cvtColor(rgb_img, cv2.COLOR_RGB2BGR))\n",
    "            print(f\"✅ Fixed with OpenCV: {file} ➜ cv2_{file}\")\n",
    "\n",
    "        except Exception as e:\n",
    "            print(f\"❌ OpenCV failed to fix {file}: {e}\")\n"
   ]
  }
 ],
 "metadata": {
  "kernelspec": {
   "display_name": "Python 3 (ipykernel)",
   "language": "python",
   "name": "python3"
  },
  "language_info": {
   "codemirror_mode": {
    "name": "ipython",
    "version": 3
   },
   "file_extension": ".py",
   "mimetype": "text/x-python",
   "name": "python",
   "nbconvert_exporter": "python",
   "pygments_lexer": "ipython3",
   "version": "3.13.5"
  }
 },
 "nbformat": 4,
 "nbformat_minor": 5
}
