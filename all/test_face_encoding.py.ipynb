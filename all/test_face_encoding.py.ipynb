{
 "cells": [
  {
   "cell_type": "code",
   "execution_count": null,
   "id": "ad3b7f68-4ee4-45b2-9759-ebfffb6d5f63",
   "metadata": {},
   "outputs": [],
   "source": [
    "import face_recognition\n",
    "\n",
    "image_path = r\"C:\\Users\\USER\\Documents\\ATTNDB\\facerecognition\\1234.jpg\"\n",
    "\n",
    "try:\n",
    "    image = face_recognition.load_image_file(image_path)\n",
    "    encodings = face_recognition.face_encodings(image)\n",
    "\n",
    "    if encodings:\n",
    "        print(\"✅ Face encoding extracted successfully.\")\n",
    "    else:\n",
    "        print(\"⚠️ No face found in the image.\")\n",
    "except Exception as e:\n",
    "    print(f\"❌ Failed to load or process image: {e}\")\n"
   ]
  }
 ],
 "metadata": {
  "kernelspec": {
   "display_name": "Python 3 (ipykernel)",
   "language": "python",
   "name": "python3"
  },
  "language_info": {
   "codemirror_mode": {
    "name": "ipython",
    "version": 3
   },
   "file_extension": ".py",
   "mimetype": "text/x-python",
   "name": "python",
   "nbconvert_exporter": "python",
   "pygments_lexer": "ipython3",
   "version": "3.13.5"
  }
 },
 "nbformat": 4,
 "nbformat_minor": 5
}
